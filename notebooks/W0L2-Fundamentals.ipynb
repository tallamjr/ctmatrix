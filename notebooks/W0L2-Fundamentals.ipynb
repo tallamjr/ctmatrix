{
 "cells": [
  {
   "cell_type": "code",
   "execution_count": 4,
   "id": "974a8cc4",
   "metadata": {},
   "outputs": [],
   "source": [
    "S = {-4, 4, -3, 3, -2, 2, -1, 1, 0}"
   ]
  },
  {
   "cell_type": "code",
   "execution_count": 5,
   "id": "4b1380d0",
   "metadata": {},
   "outputs": [
    {
     "data": {
      "text/plain": [
       "{0, 1, 2, 3, 4}"
      ]
     },
     "execution_count": 5,
     "metadata": {},
     "output_type": "execute_result"
    }
   ],
   "source": [
    "{x for x in S if x >= 0}"
   ]
  },
  {
   "cell_type": "markdown",
   "id": "7bd54417",
   "metadata": {},
   "source": [
    "%%latex\\left{ x \\in \\mathbb{R} : x 0\\right}"
   ]
  },
  {
   "cell_type": "code",
   "execution_count": 6,
   "id": "2311405d",
   "metadata": {},
   "outputs": [
    {
     "data": {
      "text/latex": [
       "\\begin{center}\n",
       "$(a+b)^{2} = a^{2}+2ab+b^{2}$\n",
       "\\end{center}\n"
      ],
      "text/plain": [
       "<IPython.core.display.Latex object>"
      ]
     },
     "metadata": {},
     "output_type": "display_data"
    }
   ],
   "source": [
    "%%latex\n",
    "\\begin{center}\n",
    "$(a+b)^{2} = a^{2}+2ab+b^{2}$\n",
    "\\end{center}"
   ]
  },
  {
   "cell_type": "code",
   "execution_count": 10,
   "id": "47f5b5cf",
   "metadata": {},
   "outputs": [
    {
     "name": "stdout",
     "output_type": "stream",
     "text": [
      "{0, 1, 2, 3, 4}\n"
     ]
    }
   ],
   "source": [
    "s = set()\n",
    "for x in S:\n",
    "    if x >= 0:\n",
    "        s.add(x)\n",
    "print(s)"
   ]
  },
  {
   "cell_type": "code",
   "execution_count": null,
   "id": "5e801808",
   "metadata": {},
   "outputs": [],
   "source": []
  }
 ],
 "metadata": {
  "kernelspec": {
   "display_name": "Python 3",
   "language": "python",
   "name": "python3"
  },
  "language_info": {
   "codemirror_mode": {
    "name": "ipython",
    "version": 3
   },
   "file_extension": ".py",
   "mimetype": "text/x-python",
   "name": "python",
   "nbconvert_exporter": "python",
   "pygments_lexer": "ipython3",
   "version": "3.8.8"
  }
 },
 "nbformat": 4,
 "nbformat_minor": 5
}
